{
 "cells": [
  {
   "cell_type": "markdown",
   "metadata": {},
   "source": [
    "#### [학습에 필요한 모듈 선언]"
   ]
  },
  {
   "cell_type": "code",
   "execution_count": 8,
   "metadata": {},
   "outputs": [],
   "source": [
    "import tensorflow as tf\n",
    "import numpy as np\n",
    "%matplotlib inline\n",
    "from matplotlib import pyplot as plt"
   ]
  },
  {
   "cell_type": "markdown",
   "metadata": {},
   "source": [
    "#### [환경설정]"
   ]
  },
  {
   "cell_type": "code",
   "execution_count": 9,
   "metadata": {},
   "outputs": [],
   "source": [
    "# 훈련용 데이터 수 선언\n",
    "trainDataNumber = 100\n",
    "# 모델 최적화를 위한 학습률 선언\n",
    "learningRate = 0.01\n",
    "# 총 학습 횟수 선언\n",
    "totalStep = 1001"
   ]
  },
  {
   "cell_type": "markdown",
   "metadata": {},
   "source": [
    "#### [빌드단계] Step 1) 학습데이터 준비"
   ]
  },
  {
   "cell_type": "code",
   "execution_count": 10,
   "metadata": {},
   "outputs": [
    {
     "data": {
      "image/png": "[encoded data removed]",
      "text/plain": [
       "<Figure size 432x288 with 1 Axes>"
      ]
     },
     "metadata": {
      "needs_background": "light"
     },
     "output_type": "display_data"
    }
   ],
   "source": [
    "# 항상 같은 난수를 생성하기 위하여 시드설정\n",
    "np.random.seed(321)\n",
    "\n",
    "# 학습 데이터 리스트 선언\n",
    "xTrainData = list()\n",
    "yTrainData = list()\n",
    "\n",
    "# 학습 데이터 생성\n",
    "xTrainData = np.random.normal(0.0, 1.0, size=trainDataNumber)\n",
    "\n",
    "for x in xTrainData:\n",
    "    # y 데이터 생성\n",
    "    y = 10 * x + 3 + np.random.normal(0.0, 3)\n",
    "    yTrainData.append(y)\n",
    "\n",
    "# 학습 데이터 확인\n",
    "plt.plot(xTrainData, yTrainData, 'bo')\n",
    "plt.title(\"Train data\")\n",
    "plt.show()"
   ]
  },
  {
   "cell_type": "markdown",
   "metadata": {},
   "source": [
    "#### [빌드단계] Step 2) 모델생성을 위한 변수 초기화"
   ]
  },
  {
   "cell_type": "code",
   "execution_count": 11,
   "metadata": {},
   "outputs": [],
   "source": [
    "# Weight 변수 선언\n",
    "W = tf.Variable(tf.random_uniform([1]))\n",
    "# Bias 변수 선언\n",
    "b = tf.Variable(tf.random_uniform([1]))\n",
    "\n",
    "# 학습데이터 xTrainData가 들어갈 플레이스 홀더 선언\n",
    "X = tf.placeholder(tf.float32)\n",
    "# 학습데이터 yTrainData가 들어갈 플레이스 홀더 선언\n",
    "Y = tf.placeholder(tf.float32)"
   ]
  },
  {
   "cell_type": "markdown",
   "metadata": {},
   "source": [
    "#### [빌드단계] Step 3) 학습 모델 그래프 구성"
   ]
  },
  {
   "cell_type": "code",
   "execution_count": 12,
   "metadata": {},
   "outputs": [],
   "source": [
    "# 3-1) 학습데이터를 대표 하는 가설 그래프 선언\n",
    "#방법1 : 일반 연산기호를 이용하여 가설 수식 작성Ehd adsfdd\n",
    "hypothesis = W * X + b\n",
    "#방법2 :  tensorflow 함수를 이용하여 가설 수식 작성\n",
    "#hypothesis = tf.add(tf.multiply(W,X),b)\n",
    "\n",
    "# 3-2) 비용함수(오차함수,손실함수) 선언\n",
    "costFunction = tf.reduce_mean(tf.square(hypothesis - Y))\n",
    "\n",
    "# 3-3) 비용함수의 값이 최소가 되도록 하는 최적화함수 선언\n",
    "optimizer = tf.train.GradientDescentOptimizer(learning_rate=learningRate)\n",
    "train = optimizer.minimize(costFunction)"
   ]
  },
  {
   "cell_type": "markdown",
   "metadata": {},
   "source": [
    "#### [실행단계] 학습 모델 그래프를 실행"
   ]
  },
  {
   "cell_type": "code",
   "execution_count": 13,
   "metadata": {},
   "outputs": [
    {
     "name": "stdout",
     "output_type": "stream",
     "text": [
      "--------------------------------------------------------------------------------\n",
      "Train(Optimization) Start \n",
      "Step : 0, cost : 86.7095718383789, W : [0.9658848], b : [0.6161949]\n",
      "Step : 50, cost : 21.844470977783203, W : [6.2035737], b : [2.129735]\n",
      "Step : 100, cost : 10.550240516662598, W : [8.39157], b : [2.7528176]\n",
      "Step : 150, cost : 8.58359146118164, W : [9.305463], b : [3.0097575]\n",
      "Step : 200, cost : 8.241128921508789, W : [9.687137], b : [3.1158707]\n",
      "Step : 250, cost : 8.181492805480957, W : [9.8465185], b : [3.1597526]\n",
      "Step : 300, cost : 8.171107292175293, W : [9.913072], b : [3.1779191]\n",
      "Step : 350, cost : 8.169299125671387, W : [9.940859], b : [3.1854491]\n",
      "Step : 400, cost : 8.168983459472656, W : [9.95246], b : [3.1885731]\n",
      "Step : 450, cost : 8.168929100036621, W : [9.9573], b : [3.1898694]\n",
      "Step : 500, cost : 8.168919563293457, W : [9.959322], b : [3.1904082]\n",
      "Step : 550, cost : 8.168917655944824, W : [9.960167], b : [3.1906319]\n",
      "Step : 600, cost : 8.168917655944824, W : [9.960519], b : [3.1907248]\n",
      "Step : 650, cost : 8.168917655944824, W : [9.960664], b : [3.1907635]\n",
      "Step : 700, cost : 8.168917655944824, W : [9.960724], b : [3.1907792]\n",
      "Step : 750, cost : 8.168917655944824, W : [9.960744], b : [3.1907847]\n",
      "Step : 800, cost : 8.168917655944824, W : [9.960744], b : [3.1907847]\n",
      "Step : 850, cost : 8.168917655944824, W : [9.960744], b : [3.1907847]\n",
      "Step : 900, cost : 8.168917655944824, W : [9.960744], b : [3.1907847]\n",
      "Step : 950, cost : 8.168917655944824, W : [9.960744], b : [3.1907847]\n",
      "Step : 1000, cost : 8.168917655944824, W : [9.960744], b : [3.1907847]\n",
      "Train Finished\n",
      "--------------------------------------------------------------------------------\n",
      "[Train Result]\n",
      "Train cost : 8.168917655944824, W : [9.960744], b : [3.1907847]\n",
      "--------------------------------------------------------------------------------\n",
      "[Test Result]\n",
      "x value is [2.5], y value is [28.092644]\n",
      "--------------------------------------------------------------------------------\n"
     ]
    },
    {
     "data": {
      "image/png": "[encoded data removed]",
      "text/plain": [
       "<Figure size 432x288 with 1 Axes>"
      ]
     },
     "metadata": {
      "needs_background": "light"
     },
     "output_type": "display_data"
    },
    {
     "data": {
      "image/png": "[encoded data removed]",
      "text/plain": [
       "<Figure size 432x288 with 1 Axes>"
      ]
     },
     "metadata": {
      "needs_background": "light"
     },
     "output_type": "display_data"
    }
   ],
   "source": [
    "# 실행을 위한 세션 선언\n",
    "sess = tf.Session()\n",
    "# 최적화 과정을 통하여 구해질 변수 W, b 초기화\n",
    "sess.run(tf.global_variables_initializer())\n",
    "\n",
    "# 비용함수 그래프를 그리기 위한 변수 선언\n",
    "WeightValueList = list()\n",
    "costFunctionValueList = list()\n",
    "\n",
    "print(\"--------------------------------------------------------------------------------\")\n",
    "print(\"Train(Optimization) Start \")\n",
    "# totalStep 횟수 만큼 학습\n",
    "for step in range(totalStep):\n",
    "    # X, Y에 학습 데이터 입력하여 비용함수, W, b, train을 실행\n",
    "    cost_val, W_val, b_val, _ = sess.run([costFunction, W, b, train],\n",
    "                                         feed_dict={X:xTrainData, Y:yTrainData})\n",
    "    # 학습 결과값을 저장\n",
    "    WeightValueList.append(W_val)\n",
    "    costFunctionValueList.append(cost_val)\n",
    "    # 학습 50회 마다 중간 결과 출력\n",
    "    if step % 50 == 0:\n",
    "        print(\"Step : {}, cost : {}, W : {}, b : {}\".format(step, cost_val, W_val, b_val))\n",
    "        # 학습 100회 마다 중간 결과 Fitting Line 추가\n",
    "        if step % 100 == 0:\n",
    "            plt.plot(xTrainData, W_val * xTrainData + b_val,\n",
    "                     label='Step : {}'.format(step), linewidth=0.5)\n",
    "print(\"Train Finished\")\n",
    "print(\"--------------------------------------------------------------------------------\")\n",
    "print(\"[Train Result]\")\n",
    "# 최적화가 끝난 학습 모델의 비용함수 값\n",
    "cost_train = sess.run(costFunction, feed_dict={X:xTrainData, Y:yTrainData})\n",
    "# 최적화가 끝난 W, b 변수의 값\n",
    "w_train = sess.run(W)\n",
    "b_train = sess.run(b)\n",
    "print(\"Train cost : {}, W : {}, b : {}\".format(cost_train, w_train, b_train))\n",
    "print(\"--------------------------------------------------------------------------------\")\n",
    "print(\"[Test Result]\")\n",
    "# 테스트를 위하여 x값 선언\n",
    "testXValue = [2.5]\n",
    "# 최적화된 모델에 x에 대한 y 값 계산\n",
    "resultYValue = sess.run(hypothesis, feed_dict={X:testXValue})\n",
    "# 테스트 결과값 출력\n",
    "print(\"x value is {}, y value is {}\".format(testXValue, resultYValue))\n",
    "print(\"--------------------------------------------------------------------------------\")\n",
    "\n",
    "# matplotlib 를 이용하여 결과를 시각화\n",
    "# 결과 확인 그래프\n",
    "plt.plot(xTrainData, sess.run(W) * xTrainData + sess.run(b), 'r', label='Fitting Line', linewidth=2)\n",
    "plt.plot(xTrainData, yTrainData, 'bo', label='Train data')\n",
    "plt.legend()\n",
    "plt.title(\"Train Result\")\n",
    "plt.show()\n",
    "\n",
    "# 비용함수 최적화 그래프\n",
    "plt.plot(WeightValueList,costFunctionValueList)\n",
    "plt.title(\"costFunction curve\")\n",
    "plt.xlabel(\"Weight\")\n",
    "plt.ylabel(\"costFunction value\")\n",
    "plt.show()\n",
    "\n",
    "#세션종료\n",
    "sess.close()"
   ]
  },
  {
   "cell_type": "code",
   "execution_count": null,
   "metadata": {},
   "outputs": [],
   "source": []
  },
  {
   "cell_type": "code",
   "execution_count": null,
   "metadata": {},
   "outputs": [],
   "source": []
  },
  {
   "cell_type": "code",
   "execution_count": null,
   "metadata": {},
   "outputs": [],
   "source": []
  },
  {
   "cell_type": "code",
   "execution_count": null,
   "metadata": {},
   "outputs": [],
   "source": []
  }
 ],
 "metadata": {
  "kernelspec": {
   "display_name": "Python 3",
   "language": "python",
   "name": "python3"
  },
  "language_info": {
   "codemirror_mode": {
    "name": "ipython",
    "version": 3
   },
   "file_extension": ".py",
   "mimetype": "text/x-python",
   "name": "python",
   "nbconvert_exporter": "python",
   "pygments_lexer": "ipython3",
   "version": "3.6.5"
  }
 },
 "nbformat": 4,
 "nbformat_minor": 2
}
